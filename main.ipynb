{
 "cells": [
  {
   "cell_type": "code",
   "execution_count": 1,
   "metadata": {},
   "outputs": [],
   "source": [
    "import warnings\n",
    "warnings.filterwarnings(\"ignore\")"
   ]
  },
  {
   "cell_type": "code",
   "execution_count": 1,
   "metadata": {},
   "outputs": [],
   "source": [
    "import numpy as np\n",
    "import pandas as pd\n",
    "\n",
    "import seaborn as sns\n",
    "import matplotlib.pyplot as plt\n",
    "\n",
    "import pickle \n",
    "from os import path\n",
    "\n",
    "from sklearn.preprocessing import MinMaxScaler\n",
    "from sklearn.preprocessing import StandardScaler\n",
    "from sklearn.preprocessing import LabelEncoder\n",
    "\n",
    "from sklearn import metrics\n",
    "from sklearn import preprocessing\n",
    "from sklearn.metrics import accuracy_score\n",
    "from sklearn.model_selection import train_test_split \n",
    "from sklearn.metrics import classification_report,confusion_matrix,accuracy_score,precision_recall_fscore_support\n",
    "\n",
    "from sklearn.svm import SVC\n",
    "from sklearn.feature_selection import SelectFromModel\n",
    "from sklearn.linear_model import LinearRegression\n",
    "from sklearn.linear_model import LogisticRegression\n",
    "from sklearn.tree import DecisionTreeClassifier\n",
    "from sklearn.ensemble import RandomForestClassifier\n",
    "from sklearn.neighbors import KNeighborsClassifier\n",
    "from sklearn.neural_network import MLPClassifier"
   ]
  },
  {
   "cell_type": "code",
   "execution_count": 3,
   "metadata": {},
   "outputs": [],
   "source": [
    "\n",
    "# nb15 = pd.read_parquet(\"UNSW_NB15_training-set.parquet\")\n",
    "# nb15.shape"
   ]
  },
  {
   "cell_type": "code",
   "execution_count": 4,
   "metadata": {},
   "outputs": [],
   "source": [
    "# nb15.head()"
   ]
  },
  {
   "cell_type": "code",
   "execution_count": 5,
   "metadata": {},
   "outputs": [],
   "source": [
    "# column_names = nb15.columns.tolist()\n",
    "# print( column_names)"
   ]
  },
  {
   "cell_type": "code",
   "execution_count": 6,
   "metadata": {},
   "outputs": [],
   "source": [
    "# nslkdd = pd.read_csv('KDDTrain+.csv')\n",
    "# nslkdd.shape"
   ]
  },
  {
   "cell_type": "code",
   "execution_count": 7,
   "metadata": {},
   "outputs": [],
   "source": [
    "# nslkdd.head()"
   ]
  },
  {
   "cell_type": "code",
   "execution_count": 8,
   "metadata": {},
   "outputs": [],
   "source": [
    "# column_names = nslkdd.columns.tolist()\n",
    "# print( column_names)"
   ]
  },
  {
   "cell_type": "code",
   "execution_count": 9,
   "metadata": {},
   "outputs": [],
   "source": [
    "\n",
    "# import glob\n",
    "\n",
    "# # Define the path to the CSV files\n",
    "# csv_files_path = 'bot/*.csv'\n",
    "\n",
    "# # Get a list of all CSV file names\n",
    "# csv_files = glob.glob(csv_files_path)\n",
    "\n",
    "# # Read each CSV file into a DataFrame and store in a list\n",
    "# dataframes = [pd.read_csv(file) for file in csv_files]\n",
    "\n",
    "# # Concatenate all DataFrames into a single DataFrame\n",
    "# botIotdf = pd.concat(dataframes, ignore_index=True)\n",
    "\n",
    "# # Display the combined DataFrame\n",
    "# print(botIotdf)\n"
   ]
  },
  {
   "cell_type": "code",
   "execution_count": 10,
   "metadata": {},
   "outputs": [],
   "source": [
    "# column_names = botIotdf.columns.tolist()\n",
    "# print( column_names)"
   ]
  },
  {
   "cell_type": "code",
   "execution_count": 11,
   "metadata": {},
   "outputs": [],
   "source": [
    "# botIotdf.category.value_counts()"
   ]
  },
  {
   "cell_type": "code",
   "execution_count": 12,
   "metadata": {},
   "outputs": [],
   "source": [
    "# output_csv_path = 'bot/bot.csv'\n",
    "\n",
    "# # Export the DataFrame to a CSV file\n",
    "# botIotdf.to_csv(output_csv_path, index=False)"
   ]
  },
  {
   "cell_type": "code",
   "execution_count": 13,
   "metadata": {},
   "outputs": [],
   "source": [
    "# import glob\n",
    "\n",
    "# # Define the path to the CSV files\n",
    "# csv_files_path = 'CIC-IDS- 2017/*.csv'\n",
    "\n",
    "# # Get a list of all CSV file names\n",
    "# csv_files = glob.glob(csv_files_path)\n",
    "\n",
    "# # Read each CSV file into a DataFrame and store in a list\n",
    "# dataframes = [pd.read_csv(file) for file in csv_files]\n",
    "\n",
    "# # Concatenate all DataFrames into a single DataFrame\n",
    "# cicidsdf = pd.concat(dataframes, ignore_index=True)\n",
    "\n",
    "# # Display the combined DataFrame\n",
    "# print(cicidsdf)"
   ]
  },
  {
   "cell_type": "code",
   "execution_count": 14,
   "metadata": {},
   "outputs": [],
   "source": [
    "# column_names = cicidsdf.columns.tolist()\n",
    "# print( column_names)"
   ]
  },
  {
   "cell_type": "code",
   "execution_count": 15,
   "metadata": {},
   "outputs": [],
   "source": [
    "# output_csv_path = 'CIC-IDS- 2017/combined_dataframe.csv'\n",
    "\n",
    "# # Export the DataFrame to a CSV file\n",
    "# cicidsdf.to_csv(output_csv_path, index=False)"
   ]
  },
  {
   "cell_type": "code",
   "execution_count": 16,
   "metadata": {},
   "outputs": [],
   "source": [
    "# cicidsdf = pd.read_csv('CIC-IDS- 2017/combined_dataframe.csv')\n",
    "# cicidsdf"
   ]
  },
  {
   "cell_type": "code",
   "execution_count": 17,
   "metadata": {},
   "outputs": [],
   "source": [
    "# cicidsdf.Label.value_counts()"
   ]
  },
  {
   "cell_type": "code",
   "execution_count": 18,
   "metadata": {},
   "outputs": [],
   "source": [
    "# botdf = pd.read_csv('bot/bot.csv')\n",
    "# botdf"
   ]
  },
  {
   "cell_type": "code",
   "execution_count": 19,
   "metadata": {},
   "outputs": [],
   "source": [
    "# botdf.category.value_counts()"
   ]
  },
  {
   "cell_type": "code",
   "execution_count": 20,
   "metadata": {},
   "outputs": [],
   "source": [
    "# botdf.subcategory.value_counts()"
   ]
  },
  {
   "cell_type": "markdown",
   "metadata": {},
   "source": [
    "## cicids"
   ]
  },
  {
   "cell_type": "code",
   "execution_count": 21,
   "metadata": {},
   "outputs": [],
   "source": [
    "# cicidsdf.isnull().sum()"
   ]
  },
  {
   "cell_type": "code",
   "execution_count": 22,
   "metadata": {},
   "outputs": [],
   "source": [
    "# cicidsdf.info()"
   ]
  },
  {
   "cell_type": "code",
   "execution_count": 23,
   "metadata": {},
   "outputs": [],
   "source": [
    "# cicidsdf.Label.value_counts()"
   ]
  },
  {
   "cell_type": "code",
   "execution_count": 24,
   "metadata": {},
   "outputs": [],
   "source": [
    "# # Mapping dictionary based on the provided table\n",
    "# class_mapping = {\n",
    "#     'BENING': 'Benign',\n",
    "#     'Bot': 'Botnet',\n",
    "#     'FTP-Patator': 'Brute Force',\n",
    "#     'SSH-Patator': 'Brute Force',\n",
    "#     'DDoS': 'DDoS',\n",
    "#     'DoS GoldenEye': 'DoS',\n",
    "#     'DoS Hulk': 'DoS',\n",
    "#     'DoS Slowhttptest': 'DoS',\n",
    "#     'DoS slowloris': 'DoS',\n",
    "#     'Heartbleed': 'DoS',\n",
    "#     'PortScan': 'PortScan',\n",
    "#     'Web Attack Brute Force': 'Web Attack',\n",
    "#     'Web Attack Sql Injection': 'Web Attack',\n",
    "#     'Web Attack XSS': 'Web Attack',\n",
    "#     'Infiltration': 'Infiltration'\n",
    "# }\n",
    "\n",
    "# # Replace the original class labels with new class labels\n",
    "# # cicidsdf['Label'] = cicidsdf['Label'].replace(class_mapping,inplace=True)\n",
    "\n",
    "# cicidsdf.Label.value_counts()\n"
   ]
  },
  {
   "cell_type": "code",
   "execution_count": 25,
   "metadata": {},
   "outputs": [],
   "source": [
    "# # Display unique values in the 'class' column before replacement\n",
    "# print(\"Unique values before replacement:\", cicidsdf['Label'].unique())\n",
    "\n",
    "# # Apply the replacement\n",
    "# cicidsdf['Label'] = cicidsdf['Label'].replace(class_mapping)\n",
    "\n",
    "# # Display unique values in the 'Label' column after replacement\n",
    "# print(\"Unique values after replacement:\", cicidsdf['Label'].unique())\n"
   ]
  },
  {
   "cell_type": "code",
   "execution_count": 26,
   "metadata": {},
   "outputs": [],
   "source": [
    "# cicidsdf.Label.value_counts()\n",
    "# output_csv_path = 'CIC-IDS- 2017/combined_dataframe.csv'\n",
    "\n",
    "# # Export the DataFrame to a CSV file\n",
    "# cicidsdf.to_csv(output_csv_path, index=False)"
   ]
  },
  {
   "cell_type": "code",
   "execution_count": 27,
   "metadata": {},
   "outputs": [],
   "source": [
    "# import matplotlib.pyplot as plt\n",
    "\n",
    "# # Assuming cicidsdf is your DataFrame\n",
    "# label_counts = cicidsdf.Label.value_counts()\n",
    "\n",
    "# # Create a list of labels based on the unique values in 'Label' column\n",
    "# labels = ['BENIGN', 'DDoS', 'PortScan', 'Botnet', 'Infiltration', 'WebAttack', 'BruteForce', 'DoS']\n",
    "\n",
    "# plt.figure(figsize=(8,8))\n",
    "# plt.pie(label_counts, labels=labels[:len(label_counts)], autopct='%0.2f%%')\n",
    "# plt.legend()\n",
    "# plt.savefig('plots/Pie_chart_binary.png')\n",
    "# plt.show()\n"
   ]
  },
  {
   "cell_type": "code",
   "execution_count": 28,
   "metadata": {},
   "outputs": [],
   "source": [
    "# # Encode label column using LabelEncoder\n",
    "# le = LabelEncoder()\n",
    "# cicidsdf['Label'] = le.fit_transform(cicidsdf['Label'])\n",
    "\n",
    "# # Create correlation matrix\n",
    "# correlation = cicidsdf.corr()\n",
    "\n",
    "# # Create a new figure for the plot\n",
    "# plt.figure(figsize=(22, 20))\n",
    "\n",
    "# # Create colormap\n",
    "# cmap = plt.cm.coolwarm\n",
    "\n",
    "# # Create heatmap\n",
    "# plt.imshow(correlation, cmap=cmap)\n",
    "\n",
    "# # Add colorbar\n",
    "# plt.colorbar()\n",
    "\n",
    "# # Add labels for each cell\n",
    "# for i in range(len(correlation.columns)):\n",
    "#     for j in range(len(correlation.columns)):\n",
    "#         plt.text(i, j, \"{:.2f}\".format(correlation.iloc[j, i]), ha=\"center\", va=\"center\")\n",
    "\n",
    "# # Add column and row labels\n",
    "# plt.xticks(range(len(correlation.columns)), correlation.columns, rotation=45, ha=\"right\")\n",
    "# plt.yticks(range(len(correlation.columns)), correlation.columns)\n",
    "\n",
    "# # Set title\n",
    "# plt.title(\"Correlation Plot\")\n",
    "\n",
    "# # Show plot\n",
    "# plt.show()\n"
   ]
  },
  {
   "cell_type": "code",
   "execution_count": 2,
   "metadata": {},
   "outputs": [],
   "source": [
    "# X = cicidsdf.drop('Label', axis=1)\n",
    "# y = (cicidsdf['Label'])\n",
    "# le = LabelEncoder()\n",
    "# le.fit(['BENIGN', 'DDoS', 'PortScan', 'Botnet', 'Infiltration', 'Web Attack', 'Brute Force', 'DoS'])\n",
    "# # print(list(le.classes_))\n",
    "# print(y.shape)\n",
    "# y = le.transform(y)\n",
    "# print(list(le.inverse_transform([0,1,2,3,4,5,6,7])))\n",
    "# # Replace infinite values with NaN\n",
    "# X.replace([np.inf, -np.inf], np.nan, inplace=True)\n",
    "# print(y)\n",
    "# # Fill NaN values with the mean of the column\n",
    "# X.fillna(X.mean(), inplace=True)\n",
    "# scaler = MinMaxScaler()\n",
    "# scaler.fit(X)\n",
    "# X=scaler.transform(X)\n",
    "# # Split cicidsdf\n",
    "# X_train, X_test, y_train, y_test = train_test_split(X, y, test_size=0.3, random_state=42)\n",
    "\n",
    "X_train = np.load(\"data/x_train.npy\")\n",
    "X_test = np.load(\"data/x_test.npy\")\n",
    "y_train = np.load(\"data/y_train.npy\")\n",
    "y_test = np.load(\"data/y_test.npy\")\n",
    "\n"
   ]
  },
  {
   "cell_type": "markdown",
   "metadata": {},
   "source": [
    "only dataset"
   ]
  },
  {
   "cell_type": "code",
   "execution_count": 30,
   "metadata": {},
   "outputs": [
    {
     "name": "stdout",
     "output_type": "stream",
     "text": [
      "Accuracy: 0.9986760381289703\n",
      "Precision of RF: 0.9986506703742745\n",
      "Recall of RF: 0.9986760381289703\n",
      "F1-score of RF: 0.9986506064477597\n",
      "              precision    recall  f1-score   support\n",
      "\n",
      "           0       1.00      1.00      1.00    567830\n",
      "           1       0.83      0.65      0.73       489\n",
      "           2       1.00      1.00      1.00      3458\n",
      "           3       1.00      1.00      1.00     32006\n",
      "           4       1.00      1.00      1.00     62931\n",
      "           5       1.00      0.11      0.20         9\n",
      "           6       0.99      1.00      0.99     39701\n",
      "           7       0.99      0.97      0.98       545\n",
      "\n",
      "    accuracy                           1.00    706969\n",
      "   macro avg       0.98      0.84      0.86    706969\n",
      "weighted avg       1.00      1.00      1.00    706969\n",
      "\n"
     ]
    },
    {
     "data": {
      "image/png": "[encoded data removed]",
      "text/plain": [
       "<Figure size 500x500 with 2 Axes>"
      ]
     },
     "metadata": {},
     "output_type": "display_data"
    }
   ],
   "source": [
    "# Train Random Forest model\n",
    "clf = RandomForestClassifier(n_estimators=100, random_state=42)\n",
    "clf.fit(X_train, y_train)\n",
    "\n",
    "# Evaluate\n",
    "y_pred = clf.predict(X_test)\n",
    "print(\"Accuracy:\", accuracy_score(y_test, y_pred))\n",
    "precision,recall,fscore,none= precision_recall_fscore_support(y_test, y_pred, average='weighted') \n",
    "print('Precision of RF: '+(str(precision)))\n",
    "print('Recall of RF: '+(str(recall)))\n",
    "print('F1-score of RF: '+(str(fscore)))\n",
    "print(classification_report(y_test,y_pred))\n",
    "cm=confusion_matrix(y_test,y_pred)\n",
    "f,ax=plt.subplots(figsize=(5,5))\n",
    "sns.heatmap(cm,annot=True,linewidth=0.5,linecolor=\"red\",fmt=\".0f\",ax=ax)\n",
    "plt.xlabel(\"y_pred\")\n",
    "plt.ylabel(\"y_true\")\n",
    "plt.show()"
   ]
  },
  {
   "cell_type": "markdown",
   "metadata": {},
   "source": [
    "generated data\n"
   ]
  },
  {
   "cell_type": "code",
   "execution_count": 12,
   "metadata": {},
   "outputs": [],
   "source": [
    "generated_X = np.load('data/cic/generated_X.npy')\n",
    "generated_y = np.load('data/cic/generated_y.npy')\n",
    "X_train_new = pd.concat([pd.DataFrame(X_train), pd.DataFrame(generated_X)], ignore_index=True)\n",
    "y_train_new = pd.concat([pd.DataFrame(y_train), pd.DataFrame(generated_y)], ignore_index=True)\n",
    "y_train_new= y_train_new.values.ravel()\n",
    "# X_train_new.shape"
   ]
  },
  {
   "cell_type": "code",
   "execution_count": 13,
   "metadata": {},
   "outputs": [],
   "source": [
    "# Train Random Forest model\n",
    "\n",
    "clf = RandomForestClassifier(n_estimators=100, random_state=42)\n",
    "clf.fit(X_train_new, y_train_new)\n",
    "\n",
    "# Evaluate\n",
    "y_pred = clf.predict(X_test)\n",
    "print(\"Accuracy:\", accuracy_score(y_test, y_pred))\n",
    "precision,recall,fscore,none= precision_recall_fscore_support(y_test, y_pred, average='weighted') \n",
    "print('Precision of RF: '+(str(precision)))\n",
    "print('Recall of RF: '+(str(recall)))\n",
    "print('F1-score of RF: '+(str(fscore)))\n",
    "print(classification_report(y_test,y_pred))\n",
    "cm=confusion_matrix(y_test,y_pred)\n",
    "f,ax=plt.subplots(figsize=(5,5))\n",
    "sns.heatmap(cm,annot=True,linewidth=0.5,linecolor=\"red\",fmt=\".0f\",ax=ax)\n",
    "plt.xlabel(\"y_pred\")\n",
    "plt.ylabel(\"y_true\")\n",
    "plt.show()"
   ]
  },
  {
   "cell_type": "code",
   "execution_count": null,
   "metadata": {},
   "outputs": [],
   "source": [
    "# # Hyperparameter optimization of random forest\n",
    "# from hyperopt import hp, fmin, tpe, STATUS_OK, Trials\n",
    "# from sklearn.model_selection import cross_val_score, StratifiedKFold\n",
    "# # Define the objective function\n",
    "# def objective(params):\n",
    "#     params = {\n",
    "#         'n_estimators': int(params['n_estimators']), \n",
    "#         'max_depth': int(params['max_depth']),\n",
    "#         'max_features': int(params['max_features']),\n",
    "#         \"min_samples_split\":int(params['min_samples_split']),\n",
    "#         \"min_samples_leaf\":int(params['min_samples_leaf']),\n",
    "#         \"criterion\":str(params['criterion'])\n",
    "#     }\n",
    "#     clf = RandomForestClassifier( **params)\n",
    "#     clf.fit(X_train,y_train)\n",
    "#     score=clf.score(X_test,y_test)\n",
    "\n",
    "#     return {'loss':-score, 'status': STATUS_OK }\n",
    "# # Define the hyperparameter configuration space\n",
    "# space = {\n",
    "#     'n_estimators': hp.quniform('n_estimators', 10, 200, 1),\n",
    "#     'max_depth': hp.quniform('max_depth', 5, 50, 1),\n",
    "#     \"max_features\":hp.quniform('max_features', 1, 20, 1),\n",
    "#     \"min_samples_split\":hp.quniform('min_samples_split',2,11,1),\n",
    "#     \"min_samples_leaf\":hp.quniform('min_samples_leaf',1,11,1),\n",
    "#     \"criterion\":hp.choice('criterion',['gini','entropy'])\n",
    "# }\n",
    "\n",
    "# best = fmin(fn=objective,\n",
    "#             space=space,\n",
    "#             algo=tpe.suggest,\n",
    "#             max_evals=20)\n",
    "# print(\"Random Forest: Hyperopt estimated optimum {}\".format(best))"
   ]
  },
  {
   "cell_type": "code",
   "execution_count": null,
   "metadata": {},
   "outputs": [
    {
     "name": "stdout",
     "output_type": "stream",
     "text": [
      "Requirement already satisfied: xgboost in c:\\users\\ashuk\\appdata\\local\\programs\\python\\python312\\lib\\site-packages (2.1.0)\n",
      "Requirement already satisfied: numpy in c:\\users\\ashuk\\appdata\\local\\programs\\python\\python312\\lib\\site-packages (from xgboost) (1.26.3)\n",
      "Requirement already satisfied: scipy in c:\\users\\ashuk\\appdata\\local\\programs\\python\\python312\\lib\\site-packages (from xgboost) (1.13.0)\n"
     ]
    }
   ],
   "source": [
    "!pip3 install xgboost\n",
    "import xgboost as xgb"
   ]
  },
  {
   "cell_type": "code",
   "execution_count": null,
   "metadata": {},
   "outputs": [],
   "source": [
    "# X = cicidsdf.drop('Label', axis=1)\n",
    "# y = le.fit_transform(cicidsdf['Label'])\n",
    "# # Replace infinite values with NaN\n",
    "# X.replace([np.inf, -np.inf], np.nan, inplace=True)\n",
    "\n",
    "# # Fill NaN values with the mean of the column\n",
    "# X.fillna(X.mean(), inplace=True)\n",
    "# scaler = StandardScaler()\n",
    "# scaler.fit(X)\n",
    "# X=scaler.transform(X)\n",
    "# # Split cicidsdf\n",
    "# X_train, X_test, y_train, y_test = train_test_split(X, y, test_size=0.3, random_state=42)"
   ]
  },
  {
   "cell_type": "code",
   "execution_count": null,
   "metadata": {},
   "outputs": [
    {
     "name": "stdout",
     "output_type": "stream",
     "text": [
      "[0 0 0 ... 4 0 4]\n"
     ]
    }
   ],
   "source": [
    "print(y_train)\n",
    "dtrain = xgb.DMatrix(X_train, label=y_train)\n",
    "dtest = xgb.DMatrix(X_test, label=y_test)"
   ]
  },
  {
   "cell_type": "code",
   "execution_count": null,
   "metadata": {},
   "outputs": [
    {
     "ename": "KeyboardInterrupt",
     "evalue": "",
     "output_type": "error",
     "traceback": [
      "\u001b[1;31m---------------------------------------------------------------------------\u001b[0m",
      "\u001b[1;31mKeyboardInterrupt\u001b[0m                         Traceback (most recent call last)",
      "Cell \u001b[1;32mIn[77], line 12\u001b[0m\n\u001b[0;32m      1\u001b[0m params \u001b[38;5;241m=\u001b[39m {\n\u001b[0;32m      2\u001b[0m     \u001b[38;5;124m'\u001b[39m\u001b[38;5;124mbooster\u001b[39m\u001b[38;5;124m'\u001b[39m: \u001b[38;5;124m'\u001b[39m\u001b[38;5;124mgbtree\u001b[39m\u001b[38;5;124m'\u001b[39m,\n\u001b[0;32m      3\u001b[0m     \u001b[38;5;124m'\u001b[39m\u001b[38;5;124mobjective\u001b[39m\u001b[38;5;124m'\u001b[39m: \u001b[38;5;124m'\u001b[39m\u001b[38;5;124mmulti:softmax\u001b[39m\u001b[38;5;124m'\u001b[39m,\n\u001b[1;32m   (...)\u001b[0m\n\u001b[0;32m      8\u001b[0m     \u001b[38;5;124m'\u001b[39m\u001b[38;5;124mseed\u001b[39m\u001b[38;5;124m'\u001b[39m: \u001b[38;5;241m42\u001b[39m\n\u001b[0;32m      9\u001b[0m }\n\u001b[0;32m     11\u001b[0m num_round \u001b[38;5;241m=\u001b[39m \u001b[38;5;241m100\u001b[39m\n\u001b[1;32m---> 12\u001b[0m bst \u001b[38;5;241m=\u001b[39m \u001b[43mxgb\u001b[49m\u001b[38;5;241;43m.\u001b[39;49m\u001b[43mtrain\u001b[49m\u001b[43m(\u001b[49m\u001b[43mparams\u001b[49m\u001b[43m,\u001b[49m\u001b[43m \u001b[49m\u001b[43mdtrain\u001b[49m\u001b[43m,\u001b[49m\u001b[43m \u001b[49m\u001b[43mnum_round\u001b[49m\u001b[43m)\u001b[49m\n",
      "File \u001b[1;32mc:\\Users\\ashuk\\AppData\\Local\\Programs\\Python\\Python312\\Lib\\site-packages\\xgboost\\core.py:726\u001b[0m, in \u001b[0;36mrequire_keyword_args.<locals>.throw_if.<locals>.inner_f\u001b[1;34m(*args, **kwargs)\u001b[0m\n\u001b[0;32m    724\u001b[0m \u001b[38;5;28;01mfor\u001b[39;00m k, arg \u001b[38;5;129;01min\u001b[39;00m \u001b[38;5;28mzip\u001b[39m(sig\u001b[38;5;241m.\u001b[39mparameters, args):\n\u001b[0;32m    725\u001b[0m     kwargs[k] \u001b[38;5;241m=\u001b[39m arg\n\u001b[1;32m--> 726\u001b[0m \u001b[38;5;28;01mreturn\u001b[39;00m \u001b[43mfunc\u001b[49m\u001b[43m(\u001b[49m\u001b[38;5;241;43m*\u001b[39;49m\u001b[38;5;241;43m*\u001b[39;49m\u001b[43mkwargs\u001b[49m\u001b[43m)\u001b[49m\n",
      "File \u001b[1;32mc:\\Users\\ashuk\\AppData\\Local\\Programs\\Python\\Python312\\Lib\\site-packages\\xgboost\\training.py:181\u001b[0m, in \u001b[0;36mtrain\u001b[1;34m(params, dtrain, num_boost_round, evals, obj, feval, maximize, early_stopping_rounds, evals_result, verbose_eval, xgb_model, callbacks, custom_metric)\u001b[0m\n\u001b[0;32m    179\u001b[0m \u001b[38;5;28;01mif\u001b[39;00m cb_container\u001b[38;5;241m.\u001b[39mbefore_iteration(bst, i, dtrain, evals):\n\u001b[0;32m    180\u001b[0m     \u001b[38;5;28;01mbreak\u001b[39;00m\n\u001b[1;32m--> 181\u001b[0m \u001b[43mbst\u001b[49m\u001b[38;5;241;43m.\u001b[39;49m\u001b[43mupdate\u001b[49m\u001b[43m(\u001b[49m\u001b[43mdtrain\u001b[49m\u001b[43m,\u001b[49m\u001b[43m \u001b[49m\u001b[43miteration\u001b[49m\u001b[38;5;241;43m=\u001b[39;49m\u001b[43mi\u001b[49m\u001b[43m,\u001b[49m\u001b[43m \u001b[49m\u001b[43mfobj\u001b[49m\u001b[38;5;241;43m=\u001b[39;49m\u001b[43mobj\u001b[49m\u001b[43m)\u001b[49m\n\u001b[0;32m    182\u001b[0m \u001b[38;5;28;01mif\u001b[39;00m cb_container\u001b[38;5;241m.\u001b[39mafter_iteration(bst, i, dtrain, evals):\n\u001b[0;32m    183\u001b[0m     \u001b[38;5;28;01mbreak\u001b[39;00m\n",
      "File \u001b[1;32mc:\\Users\\ashuk\\AppData\\Local\\Programs\\Python\\Python312\\Lib\\site-packages\\xgboost\\core.py:2101\u001b[0m, in \u001b[0;36mBooster.update\u001b[1;34m(self, dtrain, iteration, fobj)\u001b[0m\n\u001b[0;32m   2097\u001b[0m \u001b[38;5;28mself\u001b[39m\u001b[38;5;241m.\u001b[39m_assign_dmatrix_features(dtrain)\n\u001b[0;32m   2099\u001b[0m \u001b[38;5;28;01mif\u001b[39;00m fobj \u001b[38;5;129;01mis\u001b[39;00m \u001b[38;5;28;01mNone\u001b[39;00m:\n\u001b[0;32m   2100\u001b[0m     _check_call(\n\u001b[1;32m-> 2101\u001b[0m         \u001b[43m_LIB\u001b[49m\u001b[38;5;241;43m.\u001b[39;49m\u001b[43mXGBoosterUpdateOneIter\u001b[49m\u001b[43m(\u001b[49m\n\u001b[0;32m   2102\u001b[0m \u001b[43m            \u001b[49m\u001b[38;5;28;43mself\u001b[39;49m\u001b[38;5;241;43m.\u001b[39;49m\u001b[43mhandle\u001b[49m\u001b[43m,\u001b[49m\u001b[43m \u001b[49m\u001b[43mctypes\u001b[49m\u001b[38;5;241;43m.\u001b[39;49m\u001b[43mc_int\u001b[49m\u001b[43m(\u001b[49m\u001b[43miteration\u001b[49m\u001b[43m)\u001b[49m\u001b[43m,\u001b[49m\u001b[43m \u001b[49m\u001b[43mdtrain\u001b[49m\u001b[38;5;241;43m.\u001b[39;49m\u001b[43mhandle\u001b[49m\n\u001b[0;32m   2103\u001b[0m \u001b[43m        \u001b[49m\u001b[43m)\u001b[49m\n\u001b[0;32m   2104\u001b[0m     )\n\u001b[0;32m   2105\u001b[0m \u001b[38;5;28;01melse\u001b[39;00m:\n\u001b[0;32m   2106\u001b[0m     pred \u001b[38;5;241m=\u001b[39m \u001b[38;5;28mself\u001b[39m\u001b[38;5;241m.\u001b[39mpredict(dtrain, output_margin\u001b[38;5;241m=\u001b[39m\u001b[38;5;28;01mTrue\u001b[39;00m, training\u001b[38;5;241m=\u001b[39m\u001b[38;5;28;01mTrue\u001b[39;00m)\n",
      "\u001b[1;31mKeyboardInterrupt\u001b[0m: "
     ]
    }
   ],
   "source": [
    "params = {\n",
    "    'booster': 'gbtree',\n",
    "    'objective': 'multi:softmax',\n",
    "    'eval_metric': 'mlogloss',\n",
    "    'max_depth': 6,\n",
    "    'eta': 0.3,\n",
    "    'num_class': 8,  # Number of classes\n",
    "    'seed': 42\n",
    "}\n",
    "\n",
    "num_round = 100\n",
    "bst = xgb.train(params, dtrain, num_round)\n"
   ]
  },
  {
   "cell_type": "code",
   "execution_count": null,
   "metadata": {},
   "outputs": [],
   "source": [
    "# Predictions\n",
    "preds = bst.predict(dtest)\n",
    "\n",
    "# Evaluate\n",
    "accuracy = accuracy_score(y_test, preds)\n",
    "print(f'Accuracy: {accuracy * 100:.2f}%')\n",
    "\n",
    "# Detailed classification report\n",
    "print('Classification Report:')\n",
    "print(classification_report(y_test, preds))\n",
    "\n",
    "# Confusion Matrix\n",
    "print('Confusion Matrix:')\n",
    "print(confusion_matrix(y_test, preds))\n",
    "\n"
   ]
  },
  {
   "cell_type": "code",
   "execution_count": null,
   "metadata": {},
   "outputs": [],
   "source": [
    "from sklearn.tree import DecisionTreeClassifier"
   ]
  },
  {
   "cell_type": "code",
   "execution_count": null,
   "metadata": {},
   "outputs": [],
   "source": [
    "# X = cicidsdf.drop('Label', axis=1)\n",
    "# y = le.fit_transform(cicidsdf['Label'])\n",
    "# # Replace infinite values with NaN\n",
    "# X.replace([np.inf, -np.inf], np.nan, inplace=True)\n",
    "\n",
    "# # Fill NaN values with the mean of the column\n",
    "# X.fillna(X.mean(), inplace=True)\n",
    "# scaler = StandardScaler()\n",
    "# scaler.fit(X)\n",
    "# X=scaler.transform(X)\n",
    "# # Split cicidsdf\n",
    "# X_train, X_test, y_train, y_test = train_test_split(X, y, test_size=0.3, random_state=42)"
   ]
  },
  {
   "cell_type": "code",
   "execution_count": null,
   "metadata": {},
   "outputs": [],
   "source": [
    "dtc = DecisionTreeClassifier(random_state=42)\n",
    "\n",
    "# Train the model\n",
    "dtc.fit(X_train, y_train)\n",
    "\n",
    "# Make predictions\n",
    "y_pred = dtc.predict(X_test)\n",
    "print(\"Accuracy:\", accuracy_score(y_test, y_pred))\n",
    "precision,recall,fscore,none= precision_recall_fscore_support(y_test, y_pred, average='weighted') \n",
    "print('Precision of RF: '+(str(precision)))\n",
    "print('Recall of RF: '+(str(recall)))\n",
    "print('F1-score of RF: '+(str(fscore)))\n",
    "print(classification_report(y_test,y_pred))"
   ]
  },
  {
   "cell_type": "markdown",
   "metadata": {},
   "source": [
    "## WCGAN-GP"
   ]
  },
  {
   "cell_type": "code",
   "execution_count": null,
   "metadata": {},
   "outputs": [],
   "source": [
    "# import tensorflow as tf\n",
    "# from tensorflow.keras import layers\n",
    "# from tensorflow.keras.layers import Input, Dense, LeakyReLU, Embedding, multiply, BatchNormalization ,Flatten\n",
    "# from tensorflow.keras.models import Model\n",
    "# from tensorflow.keras.optimizers import Adam\n",
    "# import matplotlib.pyplot as plt"
   ]
  },
  {
   "cell_type": "code",
   "execution_count": null,
   "metadata": {},
   "outputs": [
    {
     "data": {
      "text/plain": [
       "array([[6.75974670e-03, 1.56666652e-06, 4.55046005e-06, ...,\n",
       "        0.00000000e+00, 0.00000000e+00, 0.00000000e+00],\n",
       "       [8.08728161e-04, 1.33333321e-06, 4.55046005e-06, ...,\n",
       "        0.00000000e+00, 0.00000000e+00, 0.00000000e+00],\n",
       "       [8.08728161e-04, 2.02991648e-04, 4.55046005e-06, ...,\n",
       "        0.00000000e+00, 0.00000000e+00, 0.00000000e+00],\n",
       "       ...,\n",
       "       [1.22072175e-03, 1.25405822e-03, 9.10092010e-06, ...,\n",
       "        0.00000000e+00, 0.00000000e+00, 0.00000000e+00],\n",
       "       [8.08728161e-04, 1.31305821e-03, 4.55046005e-06, ...,\n",
       "        0.00000000e+00, 0.00000000e+00, 0.00000000e+00],\n",
       "       [1.22072175e-03, 1.41666654e-07, 4.55046005e-06, ...,\n",
       "        0.00000000e+00, 0.00000000e+00, 0.00000000e+00]])"
      ]
     },
     "execution_count": 78,
     "metadata": {},
     "output_type": "execute_result"
    }
   ],
   "source": [
    "# # Save the data to .npy files\n",
    "# np.save(\"x_train.npy\",X_train)\n",
    "# np.save(\"y_train.npy\",y_train)\n",
    "# np.save(\"x_test.npy\",X_test)\n",
    "# np.save(\"y_test.npy\",y_test)\n",
    "# X_train"
   ]
  },
  {
   "cell_type": "code",
   "execution_count": null,
   "metadata": {},
   "outputs": [],
   "source": [
    "\n"
   ]
  },
  {
   "cell_type": "code",
   "execution_count": null,
   "metadata": {},
   "outputs": [],
   "source": []
  },
  {
   "cell_type": "code",
   "execution_count": null,
   "metadata": {},
   "outputs": [],
   "source": []
  },
  {
   "cell_type": "code",
   "execution_count": null,
   "metadata": {},
   "outputs": [],
   "source": []
  }
 ],
 "metadata": {
  "kernelspec": {
   "display_name": "Python 3",
   "language": "python",
   "name": "python3"
  },
  "language_info": {
   "codemirror_mode": {
    "name": "ipython",
    "version": 3
   },
   "file_extension": ".py",
   "mimetype": "text/x-python",
   "name": "python",
   "nbconvert_exporter": "python",
   "pygments_lexer": "ipython3",
   "version": "3.10.14"
  }
 },
 "nbformat": 4,
 "nbformat_minor": 2
}
